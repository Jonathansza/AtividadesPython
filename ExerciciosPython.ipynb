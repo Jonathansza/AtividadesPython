{
  "nbformat": 4,
  "nbformat_minor": 0,
  "metadata": {
    "colab": {
      "name": "ExerciciosPython",
      "provenance": [],
      "collapsed_sections": []
    },
    "kernelspec": {
      "name": "python3",
      "display_name": "Python 3"
    },
    "language_info": {
      "name": "python"
    }
  },
  "cells": [
    {
      "cell_type": "markdown",
      "source": [
        "1. Escreva um algoritmo que imprima na tela: Olá Mundo!\n",
        "\n"
      ],
      "metadata": {
        "id": "hM5tHLyktmvG"
      }
    },
    {
      "cell_type": "code",
      "source": [
        "print (\"Olá mundo!\")"
      ],
      "metadata": {
        "colab": {
          "base_uri": "https://localhost:8080/"
        },
        "id": "zUMhUru8tx9j",
        "outputId": "8cb171e8-40e3-4852-fd09-2a4a436a80e3"
      },
      "execution_count": 1,
      "outputs": [
        {
          "output_type": "stream",
          "name": "stdout",
          "text": [
            "Olá mundo!\n"
          ]
        }
      ]
    },
    {
      "cell_type": "markdown",
      "source": [
        "2. Escreva um programa que imprima seu nome na tela."
      ],
      "metadata": {
        "id": "ilyolyDat6o2"
      }
    },
    {
      "cell_type": "code",
      "source": [
        "print(\"Digite seu nome:\")\n",
        "nome = input()\n",
        "print(\"Bem-vindo, \", nome)"
      ],
      "metadata": {
        "colab": {
          "base_uri": "https://localhost:8080/"
        },
        "id": "_hzeTbicuALW",
        "outputId": "6b9bac04-f926-4670-88b6-63a1ef2ea178"
      },
      "execution_count": 2,
      "outputs": [
        {
          "output_type": "stream",
          "name": "stdout",
          "text": [
            "Digite seu nome:\n",
            "Jonathan\n",
            "Bem-vindo,  Jonathan\n"
          ]
        }
      ]
    },
    {
      "cell_type": "markdown",
      "source": [
        "3. O que o código a seguir imprime? print(\"\\n*\\n\\n*\\n*****\")\n",
        "\n",
        "R: o codigo tem a seguinte saída: quebra de linha."
      ],
      "metadata": {
        "id": "sb5MVoDpuHc5"
      }
    },
    {
      "cell_type": "code",
      "source": [
        "print(\"*\\n**\\n***\\n****\\n*****\")"
      ],
      "metadata": {
        "colab": {
          "base_uri": "https://localhost:8080/"
        },
        "id": "sTjRak83uLy8",
        "outputId": "e68f0f57-c09f-4000-dd9d-7aaa79baad92"
      },
      "execution_count": 3,
      "outputs": [
        {
          "output_type": "stream",
          "name": "stdout",
          "text": [
            "*\n",
            "**\n",
            "***\n",
            "****\n",
            "*****\n"
          ]
        }
      ]
    },
    {
      "cell_type": "markdown",
      "source": [
        "4. O que aparece na janela do console, quando cada uma das instruções abaixo são executadas, para: x = 2 e y = 3? Execute cada uma das linhas abaixos e, se necessário, faça os devidos ajustes no código.\n",
        "\n",
        "A. print(“x = ” + x); \n",
        "B. print(“O valor de x + x é ” + (x + x)); \n",
        "C. print(“x = ”); \n",
        "D. print((x + y) + “ = “ + (y + x));"
      ],
      "metadata": {
        "id": "nRO_eYxZuOou"
      }
    },
    {
      "cell_type": "code",
      "source": [
        "x = 2\n",
        "y = 3\n",
        "print('x = ', x)\n",
        "print(\"O valor de x + x é \", +(x + x))\n",
        "print('x = ')\n",
        "print((x + y), ' = ', + (y + x))"
      ],
      "metadata": {
        "colab": {
          "base_uri": "https://localhost:8080/"
        },
        "id": "t00h_rsKuV55",
        "outputId": "9fb0c563-bf42-4f68-8408-a3164ba5a66f"
      },
      "execution_count": 4,
      "outputs": [
        {
          "output_type": "stream",
          "name": "stdout",
          "text": [
            "x =  2\n",
            "O valor de x + x é  4\n",
            "x = \n",
            "5  =  5\n"
          ]
        }
      ]
    },
    {
      "cell_type": "markdown",
      "source": [
        "5. Escreva um algoritmo que imprima na tela a seguinte mensagem: A programação é aprendida escrevendo programas - Brian Kernighan"
      ],
      "metadata": {
        "id": "lJoPKW9MuZT3"
      }
    },
    {
      "cell_type": "code",
      "source": [
        "print (\"A programação é aprendida escrevendo programas - Brian Kernighan\")"
      ],
      "metadata": {
        "colab": {
          "base_uri": "https://localhost:8080/"
        },
        "id": "Hetbvh3cuiKu",
        "outputId": "ae879da1-5d58-48c9-fc03-55d419072309"
      },
      "execution_count": 5,
      "outputs": [
        {
          "output_type": "stream",
          "name": "stdout",
          "text": [
            "A programação é aprendida escrevendo programas - Brian Kernighan\n"
          ]
        }
      ]
    },
    {
      "cell_type": "markdown",
      "source": [
        "6. Crie um algoritmo que imprima o produto entre os números 25 e 27"
      ],
      "metadata": {
        "id": "fna8W-4FukAC"
      }
    },
    {
      "cell_type": "code",
      "source": [
        "x = 25\n",
        "y = 27\n",
        "produto = x * y\n",
        "print(produto)"
      ],
      "metadata": {
        "colab": {
          "base_uri": "https://localhost:8080/"
        },
        "id": "92i-aGeeumDu",
        "outputId": "f3469e9c-b1f4-4df9-9e94-0f7c1cbb6b1e"
      },
      "execution_count": 6,
      "outputs": [
        {
          "output_type": "stream",
          "name": "stdout",
          "text": [
            "675\n"
          ]
        }
      ]
    },
    {
      "cell_type": "markdown",
      "source": [
        "7. Crie um algoritmo que imprima a média aritmética entre os números 4, 12, 15."
      ],
      "metadata": {
        "id": "znK9srFDun1A"
      }
    },
    {
      "cell_type": "code",
      "source": [
        "print((4+12+15)/3)"
      ],
      "metadata": {
        "colab": {
          "base_uri": "https://localhost:8080/"
        },
        "id": "zjG73KcquqKM",
        "outputId": "3c058386-db96-4c74-e06b-102595d1164f"
      },
      "execution_count": 7,
      "outputs": [
        {
          "output_type": "stream",
          "name": "stdout",
          "text": [
            "10.333333333333334\n"
          ]
        }
      ]
    },
    {
      "cell_type": "markdown",
      "source": [
        "8. Faça um programa que leia um número inteiro e mostre-o na tela da seguinte forma: O número inteiro digitado foi 4."
      ],
      "metadata": {
        "id": "Voqj8zz_urz_"
      }
    },
    {
      "cell_type": "code",
      "source": [
        "n=int(input(\"valor de n:\"))\n",
        "print(\"O número inteiro digitado foi: \", n)"
      ],
      "metadata": {
        "colab": {
          "base_uri": "https://localhost:8080/"
        },
        "id": "UbdudhBduuyn",
        "outputId": "2d64f56a-0e87-46c1-b26d-863eda6bd857"
      },
      "execution_count": 8,
      "outputs": [
        {
          "output_type": "stream",
          "name": "stdout",
          "text": [
            "valor de n:5\n",
            "O número inteiro digitado foi:  5\n"
          ]
        }
      ]
    },
    {
      "cell_type": "markdown",
      "source": [
        "9. Faça um programa que leia e imprima dois números inteiros na tela."
      ],
      "metadata": {
        "id": "WUQWFR1iuxiR"
      }
    },
    {
      "cell_type": "code",
      "source": [
        "n1=int(input(\"Digite o primeiro numero:\"))\n",
        "n2=int(input(\"Digite o segundo numero:\"))\n",
        "\n",
        "print(\"Primeiro numero: \", n1, \"Segundo numero: \", n2)"
      ],
      "metadata": {
        "colab": {
          "base_uri": "https://localhost:8080/"
        },
        "id": "gOCHe0oxuzqB",
        "outputId": "5986bc9f-fa07-4e81-fca6-f2d61bee8eb9"
      },
      "execution_count": 14,
      "outputs": [
        {
          "output_type": "stream",
          "name": "stdout",
          "text": [
            "Digite o primeiro numero:5\n",
            "Digite o segundo numero:4\n",
            "Primeiro numero:  5 Segundo numero:  4\n"
          ]
        }
      ]
    },
    {
      "cell_type": "markdown",
      "source": [
        "10. Faça um programa que leia um número inteiro e imprima seu número sucessor e antecessor."
      ],
      "metadata": {
        "id": "jiFRy_AKu6LQ"
      }
    },
    {
      "cell_type": "code",
      "source": [
        "n = int(input(\"Digite um número: \"))\n",
        "print(\"Analisando o número {}...\".format(n))\n",
        "print(\"Antecessor: {}\".format(n-1))\n",
        "print(\"Sucessor: {}\".format(n+1))"
      ],
      "metadata": {
        "colab": {
          "base_uri": "https://localhost:8080/"
        },
        "id": "W0yTMwjju88T",
        "outputId": "1f67d12d-b6f8-41cc-a14a-2249db111da5"
      },
      "execution_count": 11,
      "outputs": [
        {
          "output_type": "stream",
          "name": "stdout",
          "text": [
            "Digite um número: 2\n",
            "Analisando o número 2...\n",
            "Antecessor: 1\n",
            "Sucessor: 3\n"
          ]
        }
      ]
    },
    {
      "cell_type": "markdown",
      "source": [
        "11. Faça um programa que leia o nome, endereço e telefone de um usuário e imprima na tela."
      ],
      "metadata": {
        "id": "jb-RV-7EvmBa"
      }
    },
    {
      "cell_type": "code",
      "source": [
        "nome = input('Digite seu nome: ')\n",
        "endereco = input('Digite seu endereço: ')\n",
        "telefone = float(input('Digite seu telefone: '))\n",
        "print('seu nome é: ', nome)\n",
        "print('seu endereço é: ', endereco)\n",
        "print('seu telefone é: ', telefone)"
      ],
      "metadata": {
        "colab": {
          "base_uri": "https://localhost:8080/"
        },
        "id": "1Z6AeW5Kvppt",
        "outputId": "70aca8f0-cae3-4ea9-db44-764659f80183"
      },
      "execution_count": 15,
      "outputs": [
        {
          "output_type": "stream",
          "name": "stdout",
          "text": [
            "Digite seu nome: jonathan\n",
            "Digite seu endereço: av marte\n",
            "Digite seu telefone: 31975748956\n",
            "seu nome é:  jonathan\n",
            "seu endereço é:  av marte\n",
            "seu telefone é:  31975748956.0\n"
          ]
        }
      ]
    },
    {
      "cell_type": "markdown",
      "source": [
        "12. Faça um programa que leia e multiplique dois números inteiros."
      ],
      "metadata": {
        "id": "NUK6zMMpvvNP"
      }
    },
    {
      "cell_type": "code",
      "source": [
        "n1=int(input(\"Digite o primeiro numero:\"))\n",
        "n2=int(input(\"Digite o segundo numero:\"))\n",
        "\n",
        "mult = (n1*n2)\n",
        "\n",
        "print(\"Resultado:\" ,mult)"
      ],
      "metadata": {
        "colab": {
          "base_uri": "https://localhost:8080/"
        },
        "id": "svZ7bn0SvxXq",
        "outputId": "85db7e88-b9b2-4f42-ee75-02609383ecb1"
      },
      "execution_count": 16,
      "outputs": [
        {
          "output_type": "stream",
          "name": "stdout",
          "text": [
            "Digite o primeiro numero:4\n",
            "Digite o segundo numero:5\n",
            "Resultado: 20\n"
          ]
        }
      ]
    },
    {
      "cell_type": "markdown",
      "source": [
        "13. Faça um programa que leia um número real e imprima a terça parte deste número."
      ],
      "metadata": {
        "id": "kOEahw7Kv0Td"
      }
    },
    {
      "cell_type": "code",
      "source": [
        "n=float(input(\"Digite um numero real:\"))\n",
        "\n",
        "print(\"A terça parte desse numero é \", n/3)"
      ],
      "metadata": {
        "colab": {
          "base_uri": "https://localhost:8080/"
        },
        "id": "S91_M4V8v2Kg",
        "outputId": "f1aa6cf4-3880-4853-f224-954054fe30dd"
      },
      "execution_count": 17,
      "outputs": [
        {
          "output_type": "stream",
          "name": "stdout",
          "text": [
            "Digite um numero real:5\n",
            "A terça parte desse numero é  1.6666666666666667\n"
          ]
        }
      ]
    },
    {
      "cell_type": "markdown",
      "source": [
        "14. Faça um programa que leia dois números inteiros e imprima o dividendo, divisor, quociente e resto da divisão"
      ],
      "metadata": {
        "id": "pQeBZqivv45q"
      }
    },
    {
      "cell_type": "code",
      "source": [
        "dividendo = int(input(\"Dividendo: \"))\n",
        "divisor = int(input(\"Divisor: \"))\n",
        "quociente = 0\n",
        "x = dividendo\n",
        "while x >= divisor:\n",
        "    x = x - divisor\n",
        "    quociente = quociente + 1\n",
        "resto = x\n",
        "print(f\"{dividendo} / {divisor} = {quociente} (quociente) {resto} (resto)\")"
      ],
      "metadata": {
        "colab": {
          "base_uri": "https://localhost:8080/"
        },
        "id": "4ahF1oA1v7_U",
        "outputId": "fc2c858d-9963-424d-9966-11614026a0b4"
      },
      "execution_count": 18,
      "outputs": [
        {
          "output_type": "stream",
          "name": "stdout",
          "text": [
            "Dividendo: 4\n",
            "Divisor: 5\n",
            "4 / 5 = 0 (quociente) 4 (resto)\n"
          ]
        }
      ]
    },
    {
      "cell_type": "markdown",
      "source": [
        "15. Escreva um programa que solicite do usuário dois números, e imprima o resultado da soma, subtração, multiplicação e divisão."
      ],
      "metadata": {
        "id": "kySJG-ccwCrG"
      }
    },
    {
      "cell_type": "code",
      "source": [
        "a = float(input(\"Primeiro número:\"))\n",
        "b = float(input(\"Segundo número:\"))\n",
        "operação = input(\"Digite a operação a realizar (+,-,* ou /):\")\n",
        "if operação == \"+\":\n",
        "    resultado = a + b\n",
        "elif operação == \"-\":\n",
        "    resultado = a - b\n",
        "elif operação == \"*\":\n",
        "    resultado = a * b\n",
        "elif operação == \"/\":\n",
        "    resultado = a / b\n",
        "else:\n",
        "    print(\"Operação inválida!\")\n",
        "    resultado = 0\n",
        "print(\"Resultado: \", resultado)"
      ],
      "metadata": {
        "colab": {
          "base_uri": "https://localhost:8080/"
        },
        "id": "qkqoshQbwE_g",
        "outputId": "e1fcb802-965b-4ecd-fa78-f72db3d087a1"
      },
      "execution_count": 19,
      "outputs": [
        {
          "output_type": "stream",
          "name": "stdout",
          "text": [
            "Primeiro número:4\n",
            "Segundo número:5\n",
            "Digite a operação a realizar (+,-,* ou /):+\n",
            "Resultado:  9.0\n"
          ]
        }
      ]
    },
    {
      "cell_type": "markdown",
      "source": [
        "16. Faça um programa que leia quatro números inteiros, calcule e mostre a soma desses números."
      ],
      "metadata": {
        "id": "DX4JTeMBwKKt"
      }
    },
    {
      "cell_type": "code",
      "source": [
        "n1=int(input(\"Digite o primeiro numero: \"))\n",
        "n2=int(input(\"Digite o segundo numero: \"))\n",
        "n3=int(input(\"Digite o terceiro numero: \"))\n",
        "n4=int(input(\"Digite o quarto numero: \"))\n",
        "\n",
        "soma = n1 + n2 + n3 + n4\n",
        "\n",
        "print(\"A soma desses quatros numeros é igual a :\" , soma)"
      ],
      "metadata": {
        "colab": {
          "base_uri": "https://localhost:8080/"
        },
        "id": "76c9z1hawLxE",
        "outputId": "da692580-9f47-4a20-fac8-01374235b6df"
      },
      "execution_count": 21,
      "outputs": [
        {
          "output_type": "stream",
          "name": "stdout",
          "text": [
            "Digite o primeiro numero: 5\n",
            "Digite o segundo numero: 6\n",
            "Digite o terceiro numero: 7\n",
            "Digite o quarto numero: 8\n",
            "A soma desses quatros numeros é igual a : 26\n"
          ]
        }
      ]
    },
    {
      "cell_type": "markdown",
      "source": [
        "17. Faça um programa que receba três notas, calcule e mostre a média aritmética."
      ],
      "metadata": {
        "id": "3M5EY8qEwSaQ"
      }
    },
    {
      "cell_type": "code",
      "source": [
        "n1 = float( input( \"informe a nota 1:\") )\n",
        "n2 = float( input( \"informe a nota 2:\") )\n",
        "n3 = float( input( \"informe a nota 3:\") )\n",
        "\n",
        "media = (n1+n2+n3) / 3\n",
        "print( \"A média é\", media)"
      ],
      "metadata": {
        "colab": {
          "base_uri": "https://localhost:8080/"
        },
        "id": "RT70jeoNwU_m",
        "outputId": "87eddc7d-0a62-46cf-8055-3a23276f0907"
      },
      "execution_count": 22,
      "outputs": [
        {
          "output_type": "stream",
          "name": "stdout",
          "text": [
            "informe a nota 1:23\n",
            "informe a nota 2:45\n",
            "informe a nota 3:67\n",
            "A média é 45.0\n"
          ]
        }
      ]
    },
    {
      "cell_type": "markdown",
      "source": [
        "18. Faça um programa que receba três notas e seus respectivos pesos, calcule e mostre a média ponderada."
      ],
      "metadata": {
        "id": "4zKnNF3dwYPZ"
      }
    },
    {
      "cell_type": "code",
      "source": [
        "nota1 = float(input('Digite a primeira nota: '))\n",
        "nota2 = float(input('Digite a segunda nota: '))\n",
        "nota3 = float(input('Digite a terceira nota: '))\n",
        "soma = nota1 * 1 + nota2 * 2 + nota3 * 3\n",
        "numbernotas = 1 + 2 + 3\n",
        "media = soma / numbernotas\n",
        "print('A média das três notas é:',media)"
      ],
      "metadata": {
        "colab": {
          "base_uri": "https://localhost:8080/"
        },
        "id": "o2dF5Kf9wada",
        "outputId": "d026c192-b5f3-4a69-a3bc-54e2e80b453a"
      },
      "execution_count": 24,
      "outputs": [
        {
          "output_type": "stream",
          "name": "stdout",
          "text": [
            "Digite a primeira nota: 12\n",
            "Digite a segunda nota: 34\n",
            "Digite a terceira nota: 56\n",
            "A média das três notas é: 41.333333333333336\n"
          ]
        }
      ]
    },
    {
      "cell_type": "markdown",
      "source": [
        "19. Faça um programa que receba o salário de um funcionário, calcule e mostre o novo salário, sabendo-se que este sofreu um aumento de 25%."
      ],
      "metadata": {
        "id": "U7eOhxLIwiJQ"
      }
    },
    {
      "cell_type": "code",
      "source": [
        "salario = float(input('Digite o seu salario: '))\n",
        "salariofinal = salario * 1.25\n",
        "print('O seu novo salário é de:',salariofinal)"
      ],
      "metadata": {
        "colab": {
          "base_uri": "https://localhost:8080/"
        },
        "id": "ZbjHvx-3w-DD",
        "outputId": "8ef2d022-0e6a-4799-cedc-de9d173d75de"
      },
      "execution_count": 25,
      "outputs": [
        {
          "output_type": "stream",
          "name": "stdout",
          "text": [
            "Digite o seu salario:1400\n",
            "O seu novo salário é de: 1750.0\n"
          ]
        }
      ]
    },
    {
      "cell_type": "markdown",
      "source": [
        "20. Faça um programa que receba o salário de um funcionário e o percentual de aumento, calcule e mostre o valor do aumento e o novo salário."
      ],
      "metadata": {
        "id": "boagVFufxC8h"
      }
    },
    {
      "cell_type": "code",
      "source": [
        "salario = float(input('Digite o seu salario:'))\n",
        "porcentagem = float(input('Digite a porcentagem de aumento:'))\n",
        "calculoporcentagem = salario / 100.0 \n",
        "salariofinal = salario + (calculoporcentagem * porcentagem)\n",
        "print('O seu novo salário é de:',salariofinal)"
      ],
      "metadata": {
        "colab": {
          "base_uri": "https://localhost:8080/"
        },
        "id": "TFid6r7gxGL0",
        "outputId": "f56472e6-1aac-4afd-80c8-28a4e062ddf2"
      },
      "execution_count": 26,
      "outputs": [
        {
          "output_type": "stream",
          "name": "stdout",
          "text": [
            "Digite o seu salario:1200\n",
            "Digite a porcentagem de aumento:5\n",
            "O seu novo salário é de: 1260.0\n"
          ]
        }
      ]
    },
    {
      "cell_type": "markdown",
      "source": [
        "21. Faça um programa que calcule e mostre a área de um triângulo. Sabe-se que:"
      ],
      "metadata": {
        "id": "MDQUUHxzxLgY"
      }
    },
    {
      "cell_type": "code",
      "source": [
        "base = float(input('Digite a base do triangulo:'))\n",
        "altura = float(input('Digite a altura do triangulo:'))\n",
        "area = base * altura / 2\n",
        "print('A área do triangulo é:',area)"
      ],
      "metadata": {
        "colab": {
          "base_uri": "https://localhost:8080/"
        },
        "id": "432m-5-yxOpv",
        "outputId": "1a4fad48-ceff-4d03-d920-a3d70041f1bd"
      },
      "execution_count": 27,
      "outputs": [
        {
          "output_type": "stream",
          "name": "stdout",
          "text": [
            "Digite a base do triangulo:23\n",
            "Digite a altura do triangulo:14\n",
            "A área do triangulo é: 161.0\n"
          ]
        }
      ]
    },
    {
      "cell_type": "markdown",
      "source": [
        "22. Escreva um programa que receba como entrada o raio de um círculo e imprima o diâmetro, a circunferência e a área. Para isso, utilize as fórmulas: diâmetro = 2r; circunferência = 2πr, área = πr²."
      ],
      "metadata": {
        "id": "yfrgr5fnxT4b"
      }
    },
    {
      "cell_type": "code",
      "source": [
        "raio = float(input('Digite o raio de um circulo:'))\n",
        "circunferencia = 2 * 3.14 * raio\n",
        "area = 3.14 * (raio * raio)\n",
        "diametro = 2 * raio\n",
        "print('O diametro é: ', diametro)\n",
        "print('A area é: ', area)\n",
        "print('A circunferencia é: ', circunferencia)"
      ],
      "metadata": {
        "colab": {
          "base_uri": "https://localhost:8080/"
        },
        "id": "peCxqeFzxWia",
        "outputId": "63ba3788-9281-4e62-c9f3-509e4b3d7a3b"
      },
      "execution_count": 29,
      "outputs": [
        {
          "output_type": "stream",
          "name": "stdout",
          "text": [
            "Digite o raio de um circulo:4\n",
            "O diametro é:  8.0\n",
            "A area é:  50.24\n",
            "A circunferencia é:  25.12\n"
          ]
        }
      ]
    },
    {
      "cell_type": "markdown",
      "source": [
        "23. Faça um programa que receba um número positivo e maior que zero, calcule e mostre:\n",
        "1. o número digitado ao quadrado;\n",
        "2. o número digitado ao cubo;\n",
        "3. a raiz quadrada do número digitado."
      ],
      "metadata": {
        "id": "3v20AqSvxfVY"
      }
    },
    {
      "cell_type": "code",
      "source": [
        "numero = float(input(\"Informe um número positivo maior que 0(zero): \"))\n",
        "if numero > 0:\n",
        "  print(numero,\"ao quadrado =\",numero*numero)\n",
        "  print(numero,\"ao cubo =\",numero*numero*numero)\n",
        "  print(numero,\"raiz quadrada =\",numero*numero)\n",
        "else:\n",
        "    print('Digite um número positivo maior que 0')"
      ],
      "metadata": {
        "colab": {
          "base_uri": "https://localhost:8080/"
        },
        "id": "T0FvwC8IxkmB",
        "outputId": "371eb6cd-b341-435f-f4c2-f5fab7f0f974"
      },
      "execution_count": 30,
      "outputs": [
        {
          "output_type": "stream",
          "name": "stdout",
          "text": [
            "Informe um número positivo maior que 0(zero): 3\n",
            "3.0 ao quadrado = 9.0\n",
            "3.0 ao cubo = 27.0\n",
            "3.0 raiz quadrada = 9.0\n"
          ]
        }
      ]
    },
    {
      "cell_type": "markdown",
      "source": [
        "24. Faça um programa que receba dois números maiores que zero, calcule e mostre um elevado ao outro."
      ],
      "metadata": {
        "id": "IEBB15_Gxr-S"
      }
    },
    {
      "cell_type": "code",
      "source": [
        "numero1 = float(input('Digite o primeiro número:'))\n",
        "numero2 = float(input('Digite o segundo número:'))\n",
        "base = numero1\n",
        "potencia = numero2\n",
        "base *= numero1\n",
        "potencia -= 1\n",
        "if numero1 > 0 and numero2 > 0:\n",
        "  print('O número ',numero1, 'elevado ao ', numero2, 'é:',base )\n",
        "else:\n",
        "  print('Digite um número maior que 0') \n"
      ],
      "metadata": {
        "colab": {
          "base_uri": "https://localhost:8080/"
        },
        "id": "ss-1wF7pxwhn",
        "outputId": "e8c6a81b-8a87-467b-ed98-4fa85f1ad851"
      },
      "execution_count": 31,
      "outputs": [
        {
          "output_type": "stream",
          "name": "stdout",
          "text": [
            "Digite o primeiro número:2\n",
            "Digite o segundo número:3\n",
            "O número  2.0 elevado ao  3.0 é: 4.0\n"
          ]
        }
      ]
    },
    {
      "cell_type": "markdown",
      "source": [
        "25. Sabe-se que: pé = 12 polegadas; 1 jarda = 3 pés e 1 milha = 1,760 jarda. Faça um programa que receba uma medida em pés, faça as conversões a seguir e mostre os resultados.\n",
        "\n",
        "1. polegadas;\n",
        "2. jardas;\n",
        "3. milhas."
      ],
      "metadata": {
        "id": "1dFJLCS8x14Q"
      }
    },
    {
      "cell_type": "code",
      "source": [
        "pes = float(input('Digite a medida em pés:'))\n",
        "polegadas = pes * 12\n",
        "jardas = pes / 3\n",
        "milhas = jardas / 1760\n",
        "print('Polegadas:', polegadas) \n",
        "print('Jardas:', jardas) \n",
        "print('milhas:', milhas) "
      ],
      "metadata": {
        "colab": {
          "base_uri": "https://localhost:8080/"
        },
        "id": "BBDteSOox4P3",
        "outputId": "a976723e-37c2-4869-a3cd-0f191f5a15a6"
      },
      "execution_count": 32,
      "outputs": [
        {
          "output_type": "stream",
          "name": "stdout",
          "text": [
            "Digite a medida em pés:23\n",
            "Polegadas: 276.0\n",
            "Jardas: 7.666666666666667\n",
            "milhas: 0.004356060606060606\n"
          ]
        }
      ]
    },
    {
      "cell_type": "markdown",
      "source": [
        "26. Escreva um programa que receba como entrada um número de 5 dígitos, separe o número em dígitos individuais e os imprima separados por 3 espaços cada um. Por exemplo, se o usuário digitar 42339, o programa deverá imprimir: 4 2 3 3. Dica: utilize as operações de divisão e módulo para extrair cada dígito do número."
      ],
      "metadata": {
        "id": "mac5HdYNyEeG"
      }
    },
    {
      "cell_type": "code",
      "source": [
        "n=int(input(\"Digite um numero inteiro com 5 algarismos: \"));\n",
        "  \n",
        "\n",
        "print(\"%d %d %d\\n\", n / 100, n % 100 / 10, n % 10); "
      ],
      "metadata": {
        "id": "nKiXT62ZyInW"
      },
      "execution_count": null,
      "outputs": []
    },
    {
      "cell_type": "markdown",
      "source": [
        "27.  A nota final de um estudante é calculada a partir de três notas atribuídas, respectivamente, a um trabalho\n",
        "de laboratório, a uma avaliação semestral e a um exame final. A média das três notas mencionadas\n",
        "obedece aos pesos a seguir:\n",
        "\n",
        "| Nota                    | Peso |\n",
        "|-------------------------|------|\n",
        "| Trabalho de Laboratório | 2    |\n",
        "| Avaliação Semestral     | 3    |\n",
        "| Exame Final             | 5    |\n",
        "\n",
        "\n",
        "Faça um programa que receba as três notas, calcule e mostre a média ponderada e o conceito que segue\n",
        "a tabela:\n",
        "\n",
        "| Média Ponderada        | Conceito |\n",
        "|------------------------|----------|\n",
        "| 8,00 <= Média <= 10,00 | A        |\n",
        "| 7,00 <= Média < 8,00   | B        |\n",
        "| 6,00 <= Média < 7,00   | C        |\n",
        "| 5,00 <= Média < 6,00   | D        |\n",
        "| 0,00 <= Média < 5,00   | E        |"
      ],
      "metadata": {
        "id": "6Kg6R5U_368s"
      }
    },
    {
      "cell_type": "code",
      "source": [
        ""
      ],
      "metadata": {
        "id": "S_W94UaU66-p"
      },
      "execution_count": null,
      "outputs": []
    },
    {
      "cell_type": "markdown",
      "source": [
        "28. Faça um programa que receba três notas de um aluno, calcule e mostre a média aritmética e a mensagem constante na tabela a seguir. \n",
        "\n",
        "| Média                  | Situação       |\n",
        "|------------------------|----------------|\n",
        "| 7,00 <= Média <= 10,00 | Aprovado       |\n",
        "| 3,00 <= Média < 7,00   | Exame Especial |\n",
        "| 0,00 <= Média < 3,00   | Reprovado      |"
      ],
      "metadata": {
        "id": "SDxv94uw7agG"
      }
    },
    {
      "cell_type": "code",
      "source": [
        ""
      ],
      "metadata": {
        "id": "7jhW11x-7ekF"
      },
      "execution_count": null,
      "outputs": []
    },
    {
      "cell_type": "markdown",
      "source": [
        "29. 9. Faça um programa para resolver equações do 2º grau.\n",
        "\n",
        "$$\n",
        "a^{2} + bx + c = 0\n",
        "$$\n",
        "\n",
        "\n",
        "Onde x é uma variável, sendo a, b e c constantes, com a ≠ 0 \n",
        "\n",
        "\n",
        "$$\n",
        "\\Delta = b^{2} - 4ac\n",
        "$$\n",
        "\n",
        "$$\n",
        "\\Delta < 0 \\rightarrow não \\: existe  \\: raiz  \\: real\n",
        "$$\n",
        "\n",
        "$$\n",
        "\\Delta = 0 \\rightarrow  existe  \\: raiz  \\: real\n",
        "$$\n",
        "\n",
        "$$\n",
        "x = \\frac{-b}{2a}\n",
        "$$\n",
        "\n",
        "\n",
        "\n",
        "$$\n",
        "\\Delta > 0 \\rightarrow existem \\: duas  \\: raizes  \\: reais\n",
        "$$\n",
        "\n",
        "\n",
        "$$\n",
        "x_1 = \\frac{-b \\: + \\: \\sqrt{\\Delta } }{2a}\n",
        "$$\n",
        "\n",
        "$$\n",
        "x_2 = \\frac{-b \\: - \\: \\sqrt{\\Delta } }{2a}\n",
        "$$"
      ],
      "metadata": {
        "id": "4RAfvGOw7jTc"
      }
    },
    {
      "cell_type": "code",
      "source": [
        "def raizes(a, b, c):\n",
        "    D = (b**2 - 4*a*c)\n",
        "    x1 = (-b + D**(1/2)) / (2*a)\n",
        "    x2 = (-b - D**(1/2)) / (2*a)\n",
        "\n",
        "    print('\\nValor de x1: {0}'.format(x1))\n",
        "    print('Valor de x2: {0}'.format(x2))\n",
        "\n",
        "if __name__ == '__main__':\n",
        "    while True:\n",
        "        print('Calculando as raízes de uma equação de 2º grau\\n')\n",
        "        a = float(input('Entre com o valor de a: '))\n",
        "        b = float(input('Entre com o valor de b: '))\n",
        "        c = float(input('Entre com o valor de c: '))\n",
        "        raizes(a,b,c)\n",
        "\n",
        "        continua = input('Deseja sair? Digite q ou Enter para novo cálculo:')\n",
        "        if (continua == 'q'):\n",
        "            break"
      ],
      "metadata": {
        "colab": {
          "base_uri": "https://localhost:8080/"
        },
        "id": "yMs0fyNO7rNj",
        "outputId": "3ff08256-0b6d-40fd-ddc7-a1b162f2bd73"
      },
      "execution_count": null,
      "outputs": [
        {
          "output_type": "stream",
          "name": "stdout",
          "text": [
            "Calculando as raízes de uma equação de 2º grau\n",
            "\n"
          ]
        }
      ]
    },
    {
      "cell_type": "markdown",
      "source": [
        "30. Faça um programa que receba vários números, calcule e mostre:\n",
        "\n",
        "A soma dos números digitados;\n",
        "A quantidade de números digitados;\n",
        "A média dos números digitados;\n",
        "O maior número digitado;\n",
        "O menor número digitado;\n",
        "A média dos números pares;\n",
        "A porcentagem dos números ímpares entre todos os números digitados.\n",
        "Finalize a entrada de dados com a digitação do número 0."
      ],
      "metadata": {
        "id": "2EYfvsup7rig"
      }
    },
    {
      "cell_type": "code",
      "source": [
        ""
      ],
      "metadata": {
        "id": "3-Uu-2Gy7use"
      },
      "execution_count": null,
      "outputs": []
    },
    {
      "cell_type": "markdown",
      "source": [
        "31. 31. Foi realizada uma pesquisa sobre algumas características físicas dos habitantes de uma região. Foram coletados os seguintes dados de cada habitante: sexo, cor dos olhos (A — azuis; ou C — castanhos), cor dos cabelos (L — louros; P — pretos; ou C — castanhos) e idade. Implemente os seguintes métodos:\n",
        "\n",
        "    1. `leia_dados()`: leia esses dados, armazene e retorne os dados em uma lista;\n",
        "    2. `media_idades(dados)`: calcula e retorne a média de idade das pessoas com olhos castanhos e cabelos pretos;\n",
        "    3. `maior_idade(dados)`: determina e retorne a maior idade entre os habitantes;\n",
        "    4. `frequencia_individuos(dados)`: calcula e retorna a quantidade de indivíduos do sexo feminino com idade entre 18 e 35 anos (inclusive) e que tenham olhos azuis e cabelos louros."
      ],
      "metadata": {
        "id": "VJ-tk5Rd7u4O"
      }
    },
    {
      "cell_type": "code",
      "source": [
        ""
      ],
      "metadata": {
        "id": "xTvJK44w77ME"
      },
      "execution_count": null,
      "outputs": []
    },
    {
      "cell_type": "markdown",
      "source": [
        "32. Faça o método `analisa_numeros(numeros)` que receba uma lista de números \n",
        "\n",
        "---\n",
        "\n",
        "como parâmetro, calcule e mostre:\n",
        "\n",
        "---\n",
        "\n",
        "\n",
        "\n",
        "    1. A Soma dos números;\n",
        "    2. A quantidade de números;\n",
        "    3. A média dos números;\n",
        "    4. O maior número;\n",
        "    5. O menor número;\n",
        "    6. A média dos números pares;\n",
        "    7. A porcentagem dos números ímpares entre todos os números da lista."
      ],
      "metadata": {
        "id": "PoKjCA5X79VX"
      }
    },
    {
      "cell_type": "code",
      "source": [
        ""
      ],
      "metadata": {
        "id": "FDHlLoHZ8AjR"
      },
      "execution_count": null,
      "outputs": []
    },
    {
      "cell_type": "markdown",
      "source": [
        "33. Uma empresa quer transmitir dados pelo telefone, mas está preocupada com a interceptação telefônica. Todos os seus dados são transmitidos como inteiros de quatro dígitos. Ela pediu para que você escreva um programa que criptografe seus dados, para que eles possam ser transmitidos com mais segurança. Implemente a função criptogra(numero) que receba como parâmetro um número inteiro de quatro dígitos e criptografe-o da seguinte forma:\n",
        "\n",
        "Substitua cada um dos dígitos do número usando a seguinte fórmula: (digito + 7) módulo 10;\n",
        "Após a substituição, troque o primeiro dígito pelo terceiro e troque o segundo dígito pelo quarto;\n",
        "Retorne o número inteiro criptografado."
      ],
      "metadata": {
        "id": "9zH1hojo8BGA"
      }
    },
    {
      "cell_type": "code",
      "source": [
        ""
      ],
      "metadata": {
        "id": "vEcH1TeN8EVK"
      },
      "execution_count": null,
      "outputs": []
    }
  ]
}